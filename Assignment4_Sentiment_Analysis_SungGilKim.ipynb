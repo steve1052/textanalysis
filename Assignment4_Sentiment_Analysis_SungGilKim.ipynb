{
 "cells": [
  {
   "cell_type": "markdown",
   "metadata": {},
   "source": [
    "# Assignment 4 : Sentiment Analysis using Azure Resources\n",
    "\n",
    "### AIDI 1006 (AI Infrastructure and Architecture)\n",
    "\n",
    "### Sung Gil Kim\n"
   ]
  },
  {
   "cell_type": "markdown",
   "metadata": {},
   "source": [
    "This project analyzes customer sentiment by scrapping Amazon product reviews about a baseball bat product in this case. The analysis result can be used for marketing purposes, etc."
   ]
  },
  {
   "cell_type": "code",
   "execution_count": 84,
   "metadata": {},
   "outputs": [],
   "source": [
    "import pandas as pd\n",
    "import numpy as np\n",
    "import matplotlib.pyplot as plt\n",
    "from matplotlib.pyplot import figure"
   ]
  },
  {
   "cell_type": "markdown",
   "metadata": {},
   "source": [
    "#### Read review data from csv file"
   ]
  },
  {
   "cell_type": "code",
   "execution_count": 2,
   "metadata": {},
   "outputs": [
    {
     "data": {
      "text/html": [
       "<div>\n",
       "<style scoped>\n",
       "    .dataframe tbody tr th:only-of-type {\n",
       "        vertical-align: middle;\n",
       "    }\n",
       "\n",
       "    .dataframe tbody tr th {\n",
       "        vertical-align: top;\n",
       "    }\n",
       "\n",
       "    .dataframe thead th {\n",
       "        text-align: right;\n",
       "    }\n",
       "</style>\n",
       "<table border=\"1\" class=\"dataframe\">\n",
       "  <thead>\n",
       "    <tr style=\"text-align: right;\">\n",
       "      <th></th>\n",
       "      <th>title</th>\n",
       "      <th>content</th>\n",
       "      <th>date</th>\n",
       "      <th>variant</th>\n",
       "      <th>images</th>\n",
       "      <th>verified</th>\n",
       "      <th>author</th>\n",
       "      <th>rating</th>\n",
       "      <th>product</th>\n",
       "      <th>url</th>\n",
       "    </tr>\n",
       "  </thead>\n",
       "  <tbody>\n",
       "    <tr>\n",
       "      <th>0</th>\n",
       "      <td>Nice weight</td>\n",
       "      <td>This bat was a quick replacement for a 220 dol...</td>\n",
       "      <td>26 Sep 2021</td>\n",
       "      <td>Size\\r\\n\\r\\n\\r\\n\\r\\n\\r\\n\\r\\n: 27\"/16oz</td>\n",
       "      <td>NaN</td>\n",
       "      <td>Verified Purchase</td>\n",
       "      <td>Sarah Bereziuk</td>\n",
       "      <td>4.0 out of 5 stars</td>\n",
       "      <td>EASTON Quantum -11, -5 USA Youth Baseball Bat,...</td>\n",
       "      <td>https://www.amazon.ca/Baseball-Aluminum-Lightw...</td>\n",
       "    </tr>\n",
       "    <tr>\n",
       "      <th>1</th>\n",
       "      <td>NaN</td>\n",
       "      <td>DO NOT BUY!!!!  The bat is bent after 2 weeks....</td>\n",
       "      <td>17 May 2021</td>\n",
       "      <td>Size\\r\\n\\r\\n\\r\\n\\r\\n\\r\\n\\r\\n: 26\"/15oz</td>\n",
       "      <td>NaN</td>\n",
       "      <td>Verified Purchase</td>\n",
       "      <td>SolidRock123</td>\n",
       "      <td>NaN</td>\n",
       "      <td>EASTON Quantum -11, -5 USA Youth Baseball Bat,...</td>\n",
       "      <td>https://www.amazon.ca/Baseball-Aluminum-Lightw...</td>\n",
       "    </tr>\n",
       "    <tr>\n",
       "      <th>2</th>\n",
       "      <td>NaN</td>\n",
       "      <td>I'm old school...OK...I'm just old.  I had nev...</td>\n",
       "      <td>06 Apr 2022</td>\n",
       "      <td>Size\\r\\n\\r\\n\\r\\n\\r\\n\\r\\n\\r\\n: 27\"/16oz</td>\n",
       "      <td>NaN</td>\n",
       "      <td>Verified Purchase</td>\n",
       "      <td>SteBoGo</td>\n",
       "      <td>NaN</td>\n",
       "      <td>EASTON Quantum -11, -5 USA Youth Baseball Bat,...</td>\n",
       "      <td>https://www.amazon.ca/Baseball-Aluminum-Lightw...</td>\n",
       "    </tr>\n",
       "    <tr>\n",
       "      <th>3</th>\n",
       "      <td>NaN</td>\n",
       "      <td>Bat was purchased for my smaller-than-average ...</td>\n",
       "      <td>14 Mar 2022</td>\n",
       "      <td>Size\\r\\n\\r\\n\\r\\n\\r\\n\\r\\n\\r\\n: 26\"/15oz</td>\n",
       "      <td>NaN</td>\n",
       "      <td>Verified Purchase</td>\n",
       "      <td>Babe Ruth</td>\n",
       "      <td>NaN</td>\n",
       "      <td>EASTON Quantum -11, -5 USA Youth Baseball Bat,...</td>\n",
       "      <td>https://www.amazon.ca/Baseball-Aluminum-Lightw...</td>\n",
       "    </tr>\n",
       "    <tr>\n",
       "      <th>4</th>\n",
       "      <td>NaN</td>\n",
       "      <td>The bat cracked after two weeks of modest use ...</td>\n",
       "      <td>23 May 2021</td>\n",
       "      <td>Size\\r\\n\\r\\n\\r\\n\\r\\n\\r\\n\\r\\n: 26\"/15oz</td>\n",
       "      <td>NaN</td>\n",
       "      <td>Verified Purchase</td>\n",
       "      <td>TC</td>\n",
       "      <td>NaN</td>\n",
       "      <td>EASTON Quantum -11, -5 USA Youth Baseball Bat,...</td>\n",
       "      <td>https://www.amazon.ca/Baseball-Aluminum-Lightw...</td>\n",
       "    </tr>\n",
       "  </tbody>\n",
       "</table>\n",
       "</div>"
      ],
      "text/plain": [
       "         title                                            content  \\\n",
       "0  Nice weight  This bat was a quick replacement for a 220 dol...   \n",
       "1          NaN  DO NOT BUY!!!!  The bat is bent after 2 weeks....   \n",
       "2          NaN  I'm old school...OK...I'm just old.  I had nev...   \n",
       "3          NaN  Bat was purchased for my smaller-than-average ...   \n",
       "4          NaN  The bat cracked after two weeks of modest use ...   \n",
       "\n",
       "          date                                 variant  images  \\\n",
       "0  26 Sep 2021  Size\\r\\n\\r\\n\\r\\n\\r\\n\\r\\n\\r\\n: 27\"/16oz     NaN   \n",
       "1  17 May 2021  Size\\r\\n\\r\\n\\r\\n\\r\\n\\r\\n\\r\\n: 26\"/15oz     NaN   \n",
       "2  06 Apr 2022  Size\\r\\n\\r\\n\\r\\n\\r\\n\\r\\n\\r\\n: 27\"/16oz     NaN   \n",
       "3  14 Mar 2022  Size\\r\\n\\r\\n\\r\\n\\r\\n\\r\\n\\r\\n: 26\"/15oz     NaN   \n",
       "4  23 May 2021  Size\\r\\n\\r\\n\\r\\n\\r\\n\\r\\n\\r\\n: 26\"/15oz     NaN   \n",
       "\n",
       "            verified          author              rating  \\\n",
       "0  Verified Purchase  Sarah Bereziuk  4.0 out of 5 stars   \n",
       "1  Verified Purchase    SolidRock123                 NaN   \n",
       "2  Verified Purchase         SteBoGo                 NaN   \n",
       "3  Verified Purchase       Babe Ruth                 NaN   \n",
       "4  Verified Purchase              TC                 NaN   \n",
       "\n",
       "                                             product  \\\n",
       "0  EASTON Quantum -11, -5 USA Youth Baseball Bat,...   \n",
       "1  EASTON Quantum -11, -5 USA Youth Baseball Bat,...   \n",
       "2  EASTON Quantum -11, -5 USA Youth Baseball Bat,...   \n",
       "3  EASTON Quantum -11, -5 USA Youth Baseball Bat,...   \n",
       "4  EASTON Quantum -11, -5 USA Youth Baseball Bat,...   \n",
       "\n",
       "                                                 url  \n",
       "0  https://www.amazon.ca/Baseball-Aluminum-Lightw...  \n",
       "1  https://www.amazon.ca/Baseball-Aluminum-Lightw...  \n",
       "2  https://www.amazon.ca/Baseball-Aluminum-Lightw...  \n",
       "3  https://www.amazon.ca/Baseball-Aluminum-Lightw...  \n",
       "4  https://www.amazon.ca/Baseball-Aluminum-Lightw...  "
      ]
     },
     "execution_count": 2,
     "metadata": {},
     "output_type": "execute_result"
    }
   ],
   "source": [
    "input_file = 'data.csv'\n",
    "\n",
    "#Display the first 5 rows of our CSV to inspect\n",
    "data = pd.read_csv(input_file)\n",
    "data.head()"
   ]
  },
  {
   "cell_type": "code",
   "execution_count": 15,
   "metadata": {},
   "outputs": [
    {
     "data": {
      "text/plain": [
       "(10, 10)"
      ]
     },
     "execution_count": 15,
     "metadata": {},
     "output_type": "execute_result"
    }
   ],
   "source": [
    "data.shape"
   ]
  },
  {
   "cell_type": "code",
   "execution_count": 16,
   "metadata": {},
   "outputs": [
    {
     "name": "stdout",
     "output_type": "stream",
     "text": [
      "0    This bat was a quick replacement for a 220 dol...\n",
      "1    DO NOT BUY!!!!  The bat is bent after 2 weeks....\n",
      "2    I'm old school...OK...I'm just old.  I had nev...\n",
      "3    Bat was purchased for my smaller-than-average ...\n",
      "4    The bat cracked after two weeks of modest use ...\n",
      "Name: content, dtype: object\n"
     ]
    }
   ],
   "source": [
    "review_content = data['content']\n",
    "print(review_content.head())"
   ]
  },
  {
   "cell_type": "markdown",
   "metadata": {},
   "source": [
    "#### review contents cleaning"
   ]
  },
  {
   "cell_type": "code",
   "execution_count": 17,
   "metadata": {},
   "outputs": [
    {
     "name": "stdout",
     "output_type": "stream",
     "text": [
      "0    This bat was a quick replacement for a 220 dol...\n",
      "1    DO NOT BUY!!!!  The bat is bent after 2 weeks....\n",
      "2    I'm old school...OK...I'm just old.  I had nev...\n",
      "3    Bat was purchased for my smaller-than-average ...\n",
      "4    The bat cracked after two weeks of modest use ...\n",
      "Name: content, dtype: object\n",
      "\n",
      "\n",
      "Current review_content count: (10,)\n"
     ]
    }
   ],
   "source": [
    "#Removing \\r and \\n characters from strings\n",
    "review_content = review_content.str.replace(\"\\r\",\"\")\n",
    "review_content = review_content.str.replace(\"\\n\",\"\")\n",
    "#Display top 5 rows and the overall length of the series\n",
    "print(review_content.head())\n",
    "print('\\n')\n",
    "print(\"Current review_content count:\",review_content.shape)"
   ]
  },
  {
   "cell_type": "code",
   "execution_count": 20,
   "metadata": {},
   "outputs": [
    {
     "name": "stdout",
     "output_type": "stream",
     "text": [
      "\n",
      " This bat was a quick replacement for a 220 dollar Easton Beast bat that had the weight fall out near the end of the season.  So far my son likes the weight of the bat.  Doesn’t look as cool, but so far it does the job and he likes it.  10 yr. old user. 27 in.\n",
      "\n",
      " DO NOT BUY!!!!  The bat is bent after 2 weeks.  My 7 year old son was using this bat in his 4th game tonight and the coach noticed it was bent.  Do disappointed because we have another playoff game tomorrow night!  Not what I expected from the Easton brand!\n",
      "\n",
      " I'm old school...OK...I'm just old.  I had never used an aluminum bat before and when they came out I just refused to use one in my softball leagues. I got this one by request for my grandson.  Throwing and catching is not his thing but now, I must admit, he can hit and hit deep.  I'm in no position to argue with success so I guess I'll just have to make my peace with the reality of aluminum or whatever this thing is made of.\n",
      "\n",
      " Bat was purchased for my smaller-than-average six year-old son. He is not hitting balls out of the park to say the least, but the bat still has a big dent and looks bent after just a couple of batting practice sessions. Sent it back and ordered a replacement, hoping that I got unlucky with a defective unit as the bat is otherwise great.\n",
      "\n",
      " The bat cracked after two weeks of modest use by a 9yr old. Please do not buy.\n",
      "\n",
      " Had shipping confirmation within 20 minutes of ordering and item arrived within 24 hours. Bat is perfect for my 6 year old!\n",
      "\n",
      " Bought for my 8 year old. He has been very happy with it. Shipped to me in a couple days.\n",
      "\n",
      " My son loved this bat good as advertised\n",
      "\n",
      " This is a really nice youth bat at the price point. It has a legitimately decent sized big barrel and is made from a nice quality aluminum. For roughly $80, this is a great bat. It is definitely better than cheap sub-$50 bats and nearly as good as some $100+ options. Is it as good as a $300 bat? No, but you shouldn't expect that at this price point. One area where this bat really shines is in the 26\" length. For years, virtually all 26\" bats were t-ball rated. That was tough, because they weren't designed for use with hard balls, but plenty of kids starting out in divisions that use hard balls still benefit from a 26\" bat. Many kids starting out in hard ball divisions struggle with 27\" bats that are just a tad too long and heavy for them. Having a legitimate hardball rated bat in the 26\" length is a great option for a lot of kids starting out in hardball divisions (6-7 years old, typically). At a -11 drop weight, this bat might be a little too heavy for kids who are a little bit small for their age, but for average size/strength younger batters, the -11 drop is usually pretty good. This is a quality bat if you don't want the cheapest thing on the market, but don't want to spend hundreds of dollars either.\n",
      "\n",
      " While I don't necessarily like the idea of better tech for the younger athletes as I feel it can be too much of a crutch, I also see the benefit of growing skills without needless struggle. I learned on the junkiest most busted down equipment and the thought was that it made you better in the long run. Well, times have changed and better equipment means new heights of achievements. This Easton bat has been no exception. The little sluggers are still little sluggers without it but with it you can see a better sense of balance developing. This goes for any well designed and weighted bat from any company. Easton has always been towards the frontline of tech in my opinion this is no exception.\n"
     ]
    }
   ],
   "source": [
    "for row in review_content:\n",
    "    print(\"\\n\",row)"
   ]
  },
  {
   "cell_type": "code",
   "execution_count": 24,
   "metadata": {},
   "outputs": [
    {
     "data": {
      "text/plain": [
       "pandas.core.series.Series"
      ]
     },
     "execution_count": 24,
     "metadata": {},
     "output_type": "execute_result"
    }
   ],
   "source": [
    "type(review_content)"
   ]
  },
  {
   "cell_type": "code",
   "execution_count": 66,
   "metadata": {},
   "outputs": [],
   "source": [
    "senti_list = []\n",
    "\n",
    "for nrow in range(len(review_content)):\n",
    "\n",
    "    review_text = review_content[nrow]\n",
    "    review = {\"id\": str(nrow), \"text\": review_text}\n",
    "    senti_list.append(review)\n"
   ]
  },
  {
   "cell_type": "code",
   "execution_count": 67,
   "metadata": {},
   "outputs": [
    {
     "data": {
      "text/plain": [
       "list"
      ]
     },
     "execution_count": 67,
     "metadata": {},
     "output_type": "execute_result"
    }
   ],
   "source": [
    "type(senti_list)"
   ]
  },
  {
   "cell_type": "code",
   "execution_count": 68,
   "metadata": {},
   "outputs": [
    {
     "data": {
      "text/plain": [
       "dict"
      ]
     },
     "execution_count": 68,
     "metadata": {},
     "output_type": "execute_result"
    }
   ],
   "source": [
    "type(senti_list[0])"
   ]
  },
  {
   "cell_type": "code",
   "execution_count": 69,
   "metadata": {},
   "outputs": [
    {
     "name": "stdout",
     "output_type": "stream",
     "text": [
      "review data count :  10\n"
     ]
    }
   ],
   "source": [
    "print(\"review data count : \",len(senti_list))"
   ]
  },
  {
   "cell_type": "markdown",
   "metadata": {},
   "source": [
    "#### Conect to Cognitive Services Resource"
   ]
  },
  {
   "cell_type": "code",
   "execution_count": 34,
   "metadata": {
    "gather": {
     "logged": 1599694661070
    }
   },
   "outputs": [
    {
     "name": "stdout",
     "output_type": "stream",
     "text": [
      "Ready to use cognitive services at https://cognitiveservices-steve.cognitiveservices.azure.com/ using key f7a12e2d8adf4211b681a9eabc7a6af2\n"
     ]
    }
   ],
   "source": [
    "cog_key = 'f7a12e2d8adf4211b681a9eabc7a6af2'\n",
    "cog_endpoint = 'https://cognitiveservices-steve.cognitiveservices.azure.com/'\n",
    "\n",
    "print('Ready to use cognitive services at {} using key {}'.format(cog_endpoint, cog_key))"
   ]
  },
  {
   "cell_type": "markdown",
   "metadata": {},
   "source": [
    "To use the Text Analytics service in your Cognitive Services resource, you'll need to install the Azure Cognitive Services Text Analytics SDK. "
   ]
  },
  {
   "cell_type": "code",
   "execution_count": 32,
   "metadata": {},
   "outputs": [],
   "source": [
    "#! pip install azure-cognitiveservices-language-textanalytics"
   ]
  },
  {
   "cell_type": "markdown",
   "metadata": {},
   "source": [
    "#### Performing Sentiment Analysis"
   ]
  },
  {
   "cell_type": "code",
   "execution_count": 35,
   "metadata": {},
   "outputs": [],
   "source": [
    "import os\n",
    "from azure.cognitiveservices.language.textanalytics import TextAnalyticsClient\n",
    "from msrest.authentication import CognitiveServicesCredentials\n",
    "\n",
    "# Get a client for your text analytics cognitive service resource\n",
    "text_analytics_client = TextAnalyticsClient(endpoint=cog_endpoint,\n",
    "                                            credentials=CognitiveServicesCredentials(cog_key))"
   ]
  },
  {
   "cell_type": "code",
   "execution_count": 95,
   "metadata": {},
   "outputs": [
    {
     "name": "stdout",
     "output_type": "stream",
     "text": [
      "0 : positive (0.843346357345581)\n",
      "1 : neutral (0.5)\n",
      "2 : positive (0.9298926591873169)\n",
      "3 : positive (0.9500777125358582)\n",
      "4 : negative (0.009666889905929565)\n",
      "5 : positive (0.9900709390640259)\n",
      "6 : positive (0.9869824051856995)\n",
      "7 : positive (0.9264447093009949)\n",
      "8 : positive (0.9999284744262695)\n",
      "9 : positive (0.9380625486373901)\n",
      "\n",
      " {'positive': 0, 'neutral': 0, 'negative': 0}\n",
      "['positive', 'neutral', 'positive', 'positive', 'negative', 'positive', 'positive', 'positive', 'positive', 'positive']\n"
     ]
    }
   ],
   "source": [
    "# Use the client and reviews you created previously to get sentiment scores\n",
    "sentiment_analysis = text_analytics_client.sentiment(documents=senti_list)\n",
    "\n",
    "senti_results_count = {'positive':0,'neutral':0,'negative':0}\n",
    "    \n",
    "senti_results_list = []\n",
    "    \n",
    "# Print the results for each review\n",
    "for review_num in range(len(senti_list)):\n",
    "\n",
    "    # Get the sentiment score for this review\n",
    "    sentiment_score = sentiment_analysis.documents[review_num].score \n",
    "    \n",
    "    # classifiy 'positive' if more than 0.7, \n",
    "    if sentiment_score < 0.3:\n",
    "        sentiment = 'negative'\n",
    "        senti_results['negative'] += 1\n",
    "    elif sentiment_score < 0.7:\n",
    "        sentiment = 'neutral'\n",
    "        senti_results['neutral'] += 1\n",
    "    else:\n",
    "        sentiment = 'positive'\n",
    "        senti_results['positive'] += 1\n",
    "\n",
    "    print('{} : {} ({})'.format(review_num, sentiment, sentiment_score))\n",
    "    senti_results_list.append(sentiment)\n",
    "\n",
    "print(\"\\n\",senti_results_count)\n",
    "print(senti_results_list)"
   ]
  },
  {
   "cell_type": "markdown",
   "metadata": {},
   "source": [
    "#### Extract Key Phrases"
   ]
  },
  {
   "cell_type": "code",
   "execution_count": 96,
   "metadata": {
    "scrolled": true
   },
   "outputs": [
    {
     "name": "stdout",
     "output_type": "stream",
     "text": [
      "0\n",
      "\n",
      "Key Phrases:\n",
      "\t weight\n",
      "\t dollar Easton Beast bat\n",
      "\t quick replacement\n",
      "\t end\n",
      "\t old user\n",
      "\t season\n",
      "\t job\n",
      "\n",
      "\n",
      "1\n",
      "\n",
      "Key Phrases:\n",
      "\t bat\n",
      "\t game tonight\n",
      "\t playoff game tomorrow night\n",
      "\t year old son\n",
      "\t coach\n",
      "\t Easton brand\n",
      "\t weeks\n",
      "\n",
      "\n",
      "2\n",
      "\n",
      "Key Phrases:\n",
      "\t thing\n",
      "\t reality of aluminum\n",
      "\t aluminum bat\n",
      "\t old school\n",
      "\t peace\n",
      "\t softball leagues\n",
      "\t request\n",
      "\t grandson\n",
      "\t position\n",
      "\t success\n",
      "\n",
      "\n",
      "3\n",
      "\n",
      "Key Phrases:\n",
      "\t couple of batting practice sessions\n",
      "\t defective unit\n",
      "\t big dent\n",
      "\t year-old son\n",
      "\t balls\n",
      "\t park\n",
      "\t replacement\n",
      "\n",
      "\n",
      "4\n",
      "\n",
      "Key Phrases:\n",
      "\t weeks of modest use\n",
      "\t yr old\n",
      "\t bat\n",
      "\n",
      "\n",
      "5\n",
      "\n",
      "Key Phrases:\n",
      "\t minutes of ordering\n",
      "\t item\n",
      "\t year old\n",
      "\t Bat\n",
      "\t confirmation\n",
      "\t hours\n",
      "\n",
      "\n",
      "6\n",
      "\n",
      "Key Phrases:\n",
      "\t year old\n",
      "\t couple days\n",
      "\n",
      "\n",
      "7\n",
      "\n",
      "Key Phrases:\n",
      "\t son\n",
      "\t bat good\n",
      "\n",
      "\n",
      "8\n",
      "\n",
      "Key Phrases:\n",
      "\t great bat\n",
      "\t quality bat\n",
      "\t nice youth bat\n",
      "\t bats\n",
      "\t lot of kids\n",
      "\t hardball divisions\n",
      "\t hard balls\n",
      "\t hard ball divisions struggle\n",
      "\t price point\n",
      "\t drop\n",
      "\t length\n",
      "\t use\n",
      "\t nice quality aluminum\n",
      "\t great option\n",
      "\t t-ball\n",
      "\t legitimate hardball\n",
      "\t years old\n",
      "\t average size\n",
      "\t strength younger batters\n",
      "\t decent sized big barrel\n",
      "\t cheapest thing\n",
      "\t market\n",
      "\t tad\n",
      "\t hundreds of dollars\n",
      "\t options\n",
      "\t area\n",
      "\t weight\n",
      "\n",
      "\n",
      "9\n",
      "\n",
      "Key Phrases:\n",
      "\t better equipment\n",
      "\t idea of better tech\n",
      "\t little sluggers\n",
      "\t better sense of balance\n",
      "\t Easton bat\n",
      "\t exception\n",
      "\t frontline of tech\n",
      "\t weighted bat\n",
      "\t benefit of growing skills\n",
      "\t needless struggle\n",
      "\t new heights of achievements\n",
      "\t younger athletes\n",
      "\t company\n",
      "\t opinion\n",
      "\t thought\n",
      "\t times\n",
      "\t long run\n",
      "\t crutch\n",
      "\n",
      "\n"
     ]
    }
   ],
   "source": [
    "# Use the client and reviews you created in the previous code cell to get key phrases\n",
    "key_phrase_analysis = text_analytics_client.key_phrases(documents=senti_list)\n",
    "key_phrase_list = []\n",
    " \n",
    "# print key phrases for each review\n",
    "for review_num in range(len(senti_list)):\n",
    "    # print the review id\n",
    "    print(senti_list[review_num]['id'])\n",
    "\n",
    "    # Get the key phrases in this review\n",
    "    print('\\nKey Phrases:')\n",
    "    key_phrases = key_phrase_analysis.documents[review_num].key_phrases\n",
    "    \n",
    "    key_phrase_list.append(key_phrases)\n",
    "    \n",
    "    # Print each key phrase\n",
    "    for key_phrase in key_phrases:\n",
    "        print('\\t', key_phrase)\n",
    "    print('\\n')"
   ]
  },
  {
   "cell_type": "code",
   "execution_count": 97,
   "metadata": {},
   "outputs": [
    {
     "data": {
      "text/plain": [
       "[['weight',\n",
       "  'dollar Easton Beast bat',\n",
       "  'quick replacement',\n",
       "  'end',\n",
       "  'old user',\n",
       "  'season',\n",
       "  'job'],\n",
       " ['bat',\n",
       "  'game tonight',\n",
       "  'playoff game tomorrow night',\n",
       "  'year old son',\n",
       "  'coach',\n",
       "  'Easton brand',\n",
       "  'weeks'],\n",
       " ['thing',\n",
       "  'reality of aluminum',\n",
       "  'aluminum bat',\n",
       "  'old school',\n",
       "  'peace',\n",
       "  'softball leagues',\n",
       "  'request',\n",
       "  'grandson',\n",
       "  'position',\n",
       "  'success'],\n",
       " ['couple of batting practice sessions',\n",
       "  'defective unit',\n",
       "  'big dent',\n",
       "  'year-old son',\n",
       "  'balls',\n",
       "  'park',\n",
       "  'replacement'],\n",
       " ['weeks of modest use', 'yr old', 'bat'],\n",
       " ['minutes of ordering', 'item', 'year old', 'Bat', 'confirmation', 'hours'],\n",
       " ['year old', 'couple days'],\n",
       " ['son', 'bat good'],\n",
       " ['great bat',\n",
       "  'quality bat',\n",
       "  'nice youth bat',\n",
       "  'bats',\n",
       "  'lot of kids',\n",
       "  'hardball divisions',\n",
       "  'hard balls',\n",
       "  'hard ball divisions struggle',\n",
       "  'price point',\n",
       "  'drop',\n",
       "  'length',\n",
       "  'use',\n",
       "  'nice quality aluminum',\n",
       "  'great option',\n",
       "  't-ball',\n",
       "  'legitimate hardball',\n",
       "  'years old',\n",
       "  'average size',\n",
       "  'strength younger batters',\n",
       "  'decent sized big barrel',\n",
       "  'cheapest thing',\n",
       "  'market',\n",
       "  'tad',\n",
       "  'hundreds of dollars',\n",
       "  'options',\n",
       "  'area',\n",
       "  'weight'],\n",
       " ['better equipment',\n",
       "  'idea of better tech',\n",
       "  'little sluggers',\n",
       "  'better sense of balance',\n",
       "  'Easton bat',\n",
       "  'exception',\n",
       "  'frontline of tech',\n",
       "  'weighted bat',\n",
       "  'benefit of growing skills',\n",
       "  'needless struggle',\n",
       "  'new heights of achievements',\n",
       "  'younger athletes',\n",
       "  'company',\n",
       "  'opinion',\n",
       "  'thought',\n",
       "  'times',\n",
       "  'long run',\n",
       "  'crutch']]"
      ]
     },
     "execution_count": 97,
     "metadata": {},
     "output_type": "execute_result"
    }
   ],
   "source": [
    "key_phrase_list"
   ]
  },
  {
   "cell_type": "markdown",
   "metadata": {},
   "source": [
    "#### Visualization"
   ]
  },
  {
   "cell_type": "code",
   "execution_count": 88,
   "metadata": {},
   "outputs": [
    {
     "data": {
      "image/png": "[encoded data removed]",
      "text/plain": [
       "<Figure size 640x640 with 2 Axes>"
      ]
     },
     "metadata": {
      "needs_background": "light"
     },
     "output_type": "display_data"
    }
   ],
   "source": [
    "#Setting our Key/Value pairs from our results\n",
    "keys = senti_results.keys()\n",
    "values = senti_results.values()\n",
    "#Establishing some format changes for our charts\n",
    "figure(num=None, figsize=(8,8),dpi=80)\n",
    "colors = ['seagreen','lightsteelblue','indianred']\n",
    "explode = (0.1, 0, 0)\n",
    "plt.rcParams.update({'font.size': 12})\n",
    "#Creating the first plot (pie chart)\n",
    "plt.subplot(221)\n",
    "plt.pie(values,labels=keys,colors=colors, explode=explode,autopct='%1.1f%%',shadow=True,startangle=90)\n",
    "plt.title('Overall Sentiment, by Percentage',bbox={'facecolor':'1','pad':8},y=1.10)\n",
    "#Creating the second plot (bar chart)\n",
    "plt.subplot(222)\n",
    "plt.title('Review Count by Sentiment Result',bbox={'facecolor':'1','pad':8},y=1.10)\n",
    "plt.bar(keys,values,width=.8,color=colors)\n",
    "#Adjusting the spacing/padding between subplots\n",
    "plt.subplots_adjust(left=0.125, bottom=0.1, right=1.8, top=1.3, wspace=0.2, hspace=0.2)\n",
    "#Displaying the plots\n",
    "plt.show()"
   ]
  },
  {
   "cell_type": "markdown",
   "metadata": {},
   "source": [
    "#### Write data to csv file"
   ]
  },
  {
   "cell_type": "code",
   "execution_count": 135,
   "metadata": {},
   "outputs": [],
   "source": [
    "import csv\n",
    "import pandas as pd\n",
    "    \n",
    "dic = {'content':senti_list, 'sentiment':senti_results_list, 'phrases':key_phrase_list}\n",
    "dataframe = pd.DataFrame(dic)    \n",
    "\n",
    "dataframe.to_csv('review_data_sentiment.csv')"
   ]
  },
  {
   "cell_type": "code",
   "execution_count": 136,
   "metadata": {},
   "outputs": [
    {
     "data": {
      "text/html": [
       "<div>\n",
       "<style scoped>\n",
       "    .dataframe tbody tr th:only-of-type {\n",
       "        vertical-align: middle;\n",
       "    }\n",
       "\n",
       "    .dataframe tbody tr th {\n",
       "        vertical-align: top;\n",
       "    }\n",
       "\n",
       "    .dataframe thead th {\n",
       "        text-align: right;\n",
       "    }\n",
       "</style>\n",
       "<table border=\"1\" class=\"dataframe\">\n",
       "  <thead>\n",
       "    <tr style=\"text-align: right;\">\n",
       "      <th></th>\n",
       "      <th>content</th>\n",
       "      <th>sentiment</th>\n",
       "      <th>phrases</th>\n",
       "    </tr>\n",
       "  </thead>\n",
       "  <tbody>\n",
       "    <tr>\n",
       "      <th>0</th>\n",
       "      <td>{'id': '0', 'text': 'This bat was a quick repl...</td>\n",
       "      <td>positive</td>\n",
       "      <td>[weight, dollar Easton Beast bat, quick replac...</td>\n",
       "    </tr>\n",
       "    <tr>\n",
       "      <th>1</th>\n",
       "      <td>{'id': '1', 'text': 'DO NOT BUY!!!!  The bat i...</td>\n",
       "      <td>neutral</td>\n",
       "      <td>[bat, game tonight, playoff game tomorrow nigh...</td>\n",
       "    </tr>\n",
       "    <tr>\n",
       "      <th>2</th>\n",
       "      <td>{'id': '2', 'text': 'I'm old school...OK...I'm...</td>\n",
       "      <td>positive</td>\n",
       "      <td>[thing, reality of aluminum, aluminum bat, old...</td>\n",
       "    </tr>\n",
       "    <tr>\n",
       "      <th>3</th>\n",
       "      <td>{'id': '3', 'text': 'Bat was purchased for my ...</td>\n",
       "      <td>positive</td>\n",
       "      <td>[couple of batting practice sessions, defectiv...</td>\n",
       "    </tr>\n",
       "    <tr>\n",
       "      <th>4</th>\n",
       "      <td>{'id': '4', 'text': 'The bat cracked after two...</td>\n",
       "      <td>negative</td>\n",
       "      <td>[weeks of modest use, yr old, bat]</td>\n",
       "    </tr>\n",
       "    <tr>\n",
       "      <th>5</th>\n",
       "      <td>{'id': '5', 'text': 'Had shipping confirmation...</td>\n",
       "      <td>positive</td>\n",
       "      <td>[minutes of ordering, item, year old, Bat, con...</td>\n",
       "    </tr>\n",
       "    <tr>\n",
       "      <th>6</th>\n",
       "      <td>{'id': '6', 'text': 'Bought for my 8 year old....</td>\n",
       "      <td>positive</td>\n",
       "      <td>[year old, couple days]</td>\n",
       "    </tr>\n",
       "    <tr>\n",
       "      <th>7</th>\n",
       "      <td>{'id': '7', 'text': 'My son loved this bat goo...</td>\n",
       "      <td>positive</td>\n",
       "      <td>[son, bat good]</td>\n",
       "    </tr>\n",
       "    <tr>\n",
       "      <th>8</th>\n",
       "      <td>{'id': '8', 'text': 'This is a really nice you...</td>\n",
       "      <td>positive</td>\n",
       "      <td>[great bat, quality bat, nice youth bat, bats,...</td>\n",
       "    </tr>\n",
       "    <tr>\n",
       "      <th>9</th>\n",
       "      <td>{'id': '9', 'text': 'While I don't necessarily...</td>\n",
       "      <td>positive</td>\n",
       "      <td>[better equipment, idea of better tech, little...</td>\n",
       "    </tr>\n",
       "  </tbody>\n",
       "</table>\n",
       "</div>"
      ],
      "text/plain": [
       "                                             content sentiment  \\\n",
       "0  {'id': '0', 'text': 'This bat was a quick repl...  positive   \n",
       "1  {'id': '1', 'text': 'DO NOT BUY!!!!  The bat i...   neutral   \n",
       "2  {'id': '2', 'text': 'I'm old school...OK...I'm...  positive   \n",
       "3  {'id': '3', 'text': 'Bat was purchased for my ...  positive   \n",
       "4  {'id': '4', 'text': 'The bat cracked after two...  negative   \n",
       "5  {'id': '5', 'text': 'Had shipping confirmation...  positive   \n",
       "6  {'id': '6', 'text': 'Bought for my 8 year old....  positive   \n",
       "7  {'id': '7', 'text': 'My son loved this bat goo...  positive   \n",
       "8  {'id': '8', 'text': 'This is a really nice you...  positive   \n",
       "9  {'id': '9', 'text': 'While I don't necessarily...  positive   \n",
       "\n",
       "                                             phrases  \n",
       "0  [weight, dollar Easton Beast bat, quick replac...  \n",
       "1  [bat, game tonight, playoff game tomorrow nigh...  \n",
       "2  [thing, reality of aluminum, aluminum bat, old...  \n",
       "3  [couple of batting practice sessions, defectiv...  \n",
       "4                 [weeks of modest use, yr old, bat]  \n",
       "5  [minutes of ordering, item, year old, Bat, con...  \n",
       "6                            [year old, couple days]  \n",
       "7                                    [son, bat good]  \n",
       "8  [great bat, quality bat, nice youth bat, bats,...  \n",
       "9  [better equipment, idea of better tech, little...  "
      ]
     },
     "execution_count": 136,
     "metadata": {},
     "output_type": "execute_result"
    }
   ],
   "source": [
    "dataframe"
   ]
  }
 ],
 "metadata": {
  "kernel_info": {
   "name": "python3-azureml"
  },
  "kernelspec": {
   "display_name": "Python 3",
   "language": "python",
   "name": "python3"
  },
  "language_info": {
   "codemirror_mode": {
    "name": "ipython",
    "version": 3
   },
   "file_extension": ".py",
   "mimetype": "text/x-python",
   "name": "python",
   "nbconvert_exporter": "python",
   "pygments_lexer": "ipython3",
   "version": "3.8.3"
  },
  "nteract": {
   "version": "nteract-front-end@1.0.0"
  }
 },
 "nbformat": 4,
 "nbformat_minor": 2
}
